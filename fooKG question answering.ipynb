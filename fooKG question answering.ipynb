{
  "nbformat": 4,
  "nbformat_minor": 0,
  "metadata": {
    "colab": {
      "provenance": [],
      "authorship_tag": "ABX9TyPOu7jKg8Vf7y6iS6vDeXJ2",
      "include_colab_link": true
    },
    "kernelspec": {
      "name": "python3",
      "display_name": "Python 3"
    },
    "language_info": {
      "name": "python"
    }
  },
  "cells": [
    {
      "cell_type": "markdown",
      "metadata": {
        "id": "view-in-github",
        "colab_type": "text"
      },
      "source": [
        "<a href=\"https://colab.research.google.com/github/Naeima/fooKG/blob/main/fooKG%20question%20answering.ipynb\" target=\"_parent\"><img src=\"https://colab.research.google.com/assets/colab-badge.svg\" alt=\"Open In Colab\"/></a>"
      ]
    },
    {
      "cell_type": "code",
      "execution_count": 3,
      "metadata": {
        "colab": {
          "base_uri": "https://localhost:8080/"
        },
        "id": "o3nyZr7zshRA",
        "outputId": "7ef55cfe-8c63-489c-e213-e8e2a00b10f0"
      },
      "outputs": [
        {
          "output_type": "stream",
          "name": "stdout",
          "text": [
            "Collecting rdflib\n",
            "  Downloading rdflib-7.0.0-py3-none-any.whl (531 kB)\n",
            "\u001b[?25l     \u001b[90m━━━━━━━━━━━━━━━━━━━━━━━━━━━━━━━━━━━━━━━━\u001b[0m \u001b[32m0.0/531.9 kB\u001b[0m \u001b[31m?\u001b[0m eta \u001b[36m-:--:--\u001b[0m\r\u001b[2K     \u001b[91m━━━━━━━━━━━━━━━━━━━━━━━━━━━━━━━━━━━━\u001b[0m\u001b[90m╺\u001b[0m\u001b[90m━━━\u001b[0m \u001b[32m481.3/531.9 kB\u001b[0m \u001b[31m14.4 MB/s\u001b[0m eta \u001b[36m0:00:01\u001b[0m\r\u001b[2K     \u001b[90m━━━━━━━━━━━━━━━━━━━━━━━━━━━━━━━━━━━━━━━━\u001b[0m \u001b[32m531.9/531.9 kB\u001b[0m \u001b[31m12.4 MB/s\u001b[0m eta \u001b[36m0:00:00\u001b[0m\n",
            "\u001b[?25hCollecting isodate<0.7.0,>=0.6.0 (from rdflib)\n",
            "  Downloading isodate-0.6.1-py2.py3-none-any.whl (41 kB)\n",
            "\u001b[?25l     \u001b[90m━━━━━━━━━━━━━━━━━━━━━━━━━━━━━━━━━━━━━━━━\u001b[0m \u001b[32m0.0/41.7 kB\u001b[0m \u001b[31m?\u001b[0m eta \u001b[36m-:--:--\u001b[0m\r\u001b[2K     \u001b[90m━━━━━━━━━━━━━━━━━━━━━━━━━━━━━━━━━━━━━━━━\u001b[0m \u001b[32m41.7/41.7 kB\u001b[0m \u001b[31m8.0 MB/s\u001b[0m eta \u001b[36m0:00:00\u001b[0m\n",
            "\u001b[?25hRequirement already satisfied: pyparsing<4,>=2.1.0 in /usr/local/lib/python3.10/dist-packages (from rdflib) (3.1.1)\n",
            "Requirement already satisfied: six in /usr/local/lib/python3.10/dist-packages (from isodate<0.7.0,>=0.6.0->rdflib) (1.16.0)\n",
            "Installing collected packages: isodate, rdflib\n",
            "Successfully installed isodate-0.6.1 rdflib-7.0.0\n",
            "Requirement already satisfied: requests in /usr/local/lib/python3.10/dist-packages (2.31.0)\n",
            "Requirement already satisfied: charset-normalizer<4,>=2 in /usr/local/lib/python3.10/dist-packages (from requests) (3.3.2)\n",
            "Requirement already satisfied: idna<4,>=2.5 in /usr/local/lib/python3.10/dist-packages (from requests) (3.6)\n",
            "Requirement already satisfied: urllib3<3,>=1.21.1 in /usr/local/lib/python3.10/dist-packages (from requests) (2.0.7)\n",
            "Requirement already satisfied: certifi>=2017.4.17 in /usr/local/lib/python3.10/dist-packages (from requests) (2024.2.2)\n",
            "Collecting SPARQLWrapper\n",
            "  Downloading SPARQLWrapper-2.0.0-py3-none-any.whl (28 kB)\n",
            "Requirement already satisfied: rdflib>=6.1.1 in /usr/local/lib/python3.10/dist-packages (from SPARQLWrapper) (7.0.0)\n",
            "Requirement already satisfied: isodate<0.7.0,>=0.6.0 in /usr/local/lib/python3.10/dist-packages (from rdflib>=6.1.1->SPARQLWrapper) (0.6.1)\n",
            "Requirement already satisfied: pyparsing<4,>=2.1.0 in /usr/local/lib/python3.10/dist-packages (from rdflib>=6.1.1->SPARQLWrapper) (3.1.1)\n",
            "Requirement already satisfied: six in /usr/local/lib/python3.10/dist-packages (from isodate<0.7.0,>=0.6.0->rdflib>=6.1.1->SPARQLWrapper) (1.16.0)\n",
            "Installing collected packages: SPARQLWrapper\n",
            "Successfully installed SPARQLWrapper-2.0.0\n",
            "Requirement already satisfied: rdflib in /usr/local/lib/python3.10/dist-packages (7.0.0)\n",
            "Requirement already satisfied: spacy in /usr/local/lib/python3.10/dist-packages (3.7.4)\n",
            "Requirement already satisfied: isodate<0.7.0,>=0.6.0 in /usr/local/lib/python3.10/dist-packages (from rdflib) (0.6.1)\n",
            "Requirement already satisfied: pyparsing<4,>=2.1.0 in /usr/local/lib/python3.10/dist-packages (from rdflib) (3.1.1)\n",
            "Requirement already satisfied: spacy-legacy<3.1.0,>=3.0.11 in /usr/local/lib/python3.10/dist-packages (from spacy) (3.0.12)\n",
            "Requirement already satisfied: spacy-loggers<2.0.0,>=1.0.0 in /usr/local/lib/python3.10/dist-packages (from spacy) (1.0.5)\n",
            "Requirement already satisfied: murmurhash<1.1.0,>=0.28.0 in /usr/local/lib/python3.10/dist-packages (from spacy) (1.0.10)\n",
            "Requirement already satisfied: cymem<2.1.0,>=2.0.2 in /usr/local/lib/python3.10/dist-packages (from spacy) (2.0.8)\n",
            "Requirement already satisfied: preshed<3.1.0,>=3.0.2 in /usr/local/lib/python3.10/dist-packages (from spacy) (3.0.9)\n",
            "Requirement already satisfied: thinc<8.3.0,>=8.2.2 in /usr/local/lib/python3.10/dist-packages (from spacy) (8.2.3)\n",
            "Requirement already satisfied: wasabi<1.2.0,>=0.9.1 in /usr/local/lib/python3.10/dist-packages (from spacy) (1.1.2)\n",
            "Requirement already satisfied: srsly<3.0.0,>=2.4.3 in /usr/local/lib/python3.10/dist-packages (from spacy) (2.4.8)\n",
            "Requirement already satisfied: catalogue<2.1.0,>=2.0.6 in /usr/local/lib/python3.10/dist-packages (from spacy) (2.0.10)\n",
            "Requirement already satisfied: weasel<0.4.0,>=0.1.0 in /usr/local/lib/python3.10/dist-packages (from spacy) (0.3.4)\n",
            "Requirement already satisfied: typer<0.10.0,>=0.3.0 in /usr/local/lib/python3.10/dist-packages (from spacy) (0.9.0)\n",
            "Requirement already satisfied: smart-open<7.0.0,>=5.2.1 in /usr/local/lib/python3.10/dist-packages (from spacy) (6.4.0)\n",
            "Requirement already satisfied: tqdm<5.0.0,>=4.38.0 in /usr/local/lib/python3.10/dist-packages (from spacy) (4.66.2)\n",
            "Requirement already satisfied: requests<3.0.0,>=2.13.0 in /usr/local/lib/python3.10/dist-packages (from spacy) (2.31.0)\n",
            "Requirement already satisfied: pydantic!=1.8,!=1.8.1,<3.0.0,>=1.7.4 in /usr/local/lib/python3.10/dist-packages (from spacy) (2.6.3)\n",
            "Requirement already satisfied: jinja2 in /usr/local/lib/python3.10/dist-packages (from spacy) (3.1.3)\n",
            "Requirement already satisfied: setuptools in /usr/local/lib/python3.10/dist-packages (from spacy) (67.7.2)\n",
            "Requirement already satisfied: packaging>=20.0 in /usr/local/lib/python3.10/dist-packages (from spacy) (23.2)\n",
            "Requirement already satisfied: langcodes<4.0.0,>=3.2.0 in /usr/local/lib/python3.10/dist-packages (from spacy) (3.3.0)\n",
            "Requirement already satisfied: numpy>=1.19.0 in /usr/local/lib/python3.10/dist-packages (from spacy) (1.25.2)\n",
            "Requirement already satisfied: six in /usr/local/lib/python3.10/dist-packages (from isodate<0.7.0,>=0.6.0->rdflib) (1.16.0)\n",
            "Requirement already satisfied: annotated-types>=0.4.0 in /usr/local/lib/python3.10/dist-packages (from pydantic!=1.8,!=1.8.1,<3.0.0,>=1.7.4->spacy) (0.6.0)\n",
            "Requirement already satisfied: pydantic-core==2.16.3 in /usr/local/lib/python3.10/dist-packages (from pydantic!=1.8,!=1.8.1,<3.0.0,>=1.7.4->spacy) (2.16.3)\n",
            "Requirement already satisfied: typing-extensions>=4.6.1 in /usr/local/lib/python3.10/dist-packages (from pydantic!=1.8,!=1.8.1,<3.0.0,>=1.7.4->spacy) (4.10.0)\n",
            "Requirement already satisfied: charset-normalizer<4,>=2 in /usr/local/lib/python3.10/dist-packages (from requests<3.0.0,>=2.13.0->spacy) (3.3.2)\n",
            "Requirement already satisfied: idna<4,>=2.5 in /usr/local/lib/python3.10/dist-packages (from requests<3.0.0,>=2.13.0->spacy) (3.6)\n",
            "Requirement already satisfied: urllib3<3,>=1.21.1 in /usr/local/lib/python3.10/dist-packages (from requests<3.0.0,>=2.13.0->spacy) (2.0.7)\n",
            "Requirement already satisfied: certifi>=2017.4.17 in /usr/local/lib/python3.10/dist-packages (from requests<3.0.0,>=2.13.0->spacy) (2024.2.2)\n",
            "Requirement already satisfied: blis<0.8.0,>=0.7.8 in /usr/local/lib/python3.10/dist-packages (from thinc<8.3.0,>=8.2.2->spacy) (0.7.11)\n",
            "Requirement already satisfied: confection<1.0.0,>=0.0.1 in /usr/local/lib/python3.10/dist-packages (from thinc<8.3.0,>=8.2.2->spacy) (0.1.4)\n",
            "Requirement already satisfied: click<9.0.0,>=7.1.1 in /usr/local/lib/python3.10/dist-packages (from typer<0.10.0,>=0.3.0->spacy) (8.1.7)\n",
            "Requirement already satisfied: cloudpathlib<0.17.0,>=0.7.0 in /usr/local/lib/python3.10/dist-packages (from weasel<0.4.0,>=0.1.0->spacy) (0.16.0)\n",
            "Requirement already satisfied: MarkupSafe>=2.0 in /usr/local/lib/python3.10/dist-packages (from jinja2->spacy) (2.1.5)\n",
            "ERROR: unknown command \"python\"\n"
          ]
        }
      ],
      "source": [
        "!pip install rdflib\n",
        "!pip install requests\n",
        "!pip install SPARQLWrapper\n",
        "!pip install rdflib spacy\n",
        "!pip python -m spacy download en_core_web_sm\n"
      ]
    },
    {
      "cell_type": "code",
      "source": [
        "import io\n",
        "import os\n",
        "import rdflib\n",
        "from rdflib import URIRef, Literal, Graph, RDF, Namespace, plugin\n",
        "from rdflib.plugins import sparql\n",
        "from rdflib.plugins.sparql import prepareQuery\n",
        "from rdflib.parser import Parser\n",
        "from rdflib import Graph\n",
        "from rdflib.plugins.sparql import prepareQuery\n",
        "from SPARQLWrapper import SPARQLWrapper, JSON, N3\n",
        "import requests\n",
        "import json\n",
        "import pandas as pd\n",
        "from SPARQLWrapper import SPARQLWrapper, JSON"
      ],
      "metadata": {
        "id": "5NCpU_qBssG7"
      },
      "execution_count": 5,
      "outputs": []
    },
    {
      "cell_type": "code",
      "source": [
        "# Retrieve data from main data (knowledge graph contains soil, veg, images and GPS collar)\n"
      ],
      "metadata": {
        "colab": {
          "base_uri": "https://localhost:8080/"
        },
        "id": "TvAI5bvtssXK",
        "outputId": "482cda77-421e-4ada-c67d-5d7c57425fc2"
      },
      "execution_count": 6,
      "outputs": [
        {
          "output_type": "execute_result",
          "data": {
            "text/plain": [
              "<Graph identifier=N13fbfef958564915a568774d707b517f (<class 'rdflib.graph.Graph'>)>"
            ]
          },
          "metadata": {},
          "execution_count": 6
        }
      ]
    },
    {
      "cell_type": "code",
      "source": [
        "import spacy\n",
        "from rdflib import Graph\n",
        "\n",
        "# Load the English tokenizer, tagger, parser, NER, and word vectors\n",
        "nlp = spacy.load(\"en_core_web_sm\")\n",
        "\n",
        "# Your RDF graph loading remains the same\n",
        "foo_KG = Graph(); foo_KG.parse(\"https://naeima.github.io/fooKG/index.ttl\", format=\"ttl\")\n",
        "\n",
        "def formulate_sparql(question):\n",
        "    # Use spaCy NLP to analyze the question\n",
        "    doc = nlp(question)\n",
        "\n",
        "    # Example: Extract named entities and nouns as potential subjects/objects\n",
        "    subjects = [ent.text for ent in doc.ents] + [token.text for token in doc if token.pos_ == \"NOUN\"]\n",
        "\n",
        "    # Here, you'd need a mapping from natural language terms to RDF predicates/your ontology\n",
        "    # This example is overly simplistic and for demonstration only\n",
        "    predicates = {\"located\": \"dbo:location\", \"created\": \"dbo:creationDate\"}\n",
        "\n",
        "    # Formulate a basic SPARQL query based on identified components\n",
        "    # Note: A real implementation would require more sophisticated mapping logic\n",
        "    sparql_query = \"SELECT ?subject ?predicate ?object WHERE {?subject ?predicate ?object .\"\n",
        "    for subject in subjects:\n",
        "        sparql_query += f\" FILTER(regex(str(?object), '{subject}', 'i'))\"\n",
        "    sparql_query += \"}\"\n",
        "\n",
        "    return sparql_query\n",
        "\n",
        "# Example bot interaction\n",
        "question = input(\"Enter your question: \")\n",
        "sparql_query = formulate_sparql(question)\n",
        "print(\"Generated SPARQL query:\", sparql_query)\n",
        "\n",
        "# Execute the SPARQL query\n",
        "results = g.query(sparql_query)\n",
        "for row in results:\n",
        "    print(row)\n"
      ],
      "metadata": {
        "colab": {
          "base_uri": "https://localhost:8080/"
        },
        "id": "gVTg4XMfsx2u",
        "outputId": "749ab4b2-2831-4dda-bd88-2e125ca94b7c"
      },
      "execution_count": 8,
      "outputs": [
        {
          "output_type": "stream",
          "name": "stdout",
          "text": [
            "Enter your question: where is the elephant?\n",
            "Generated SPARQL query: SELECT ?subject ?predicate ?object WHERE {?subject ?predicate ?object . FILTER(regex(str(?object), 'elephant', 'i'))}\n"
          ]
        }
      ]
    },
    {
      "cell_type": "code",
      "source": [
        "from rdflib import Graph\n",
        "\n",
        "# Load your RDF graph\n",
        "g = Graph()\n",
        "g.parse(\"http://example.org/some-rdf-data.rdf\", format=\"xml\")  # Update with your data source\n",
        "\n",
        "def answer_question(question):\n",
        "    # Process the question to extract entities or intents\n",
        "    entities = process_question(question)\n",
        "    # Formulate a SPARQL query based on the question analysis\n",
        "    sparql_query = formulate_sparql(entities)\n",
        "    # Execute the SPARQL query against your RDF graph\n",
        "    results = g.query(sparql_query)\n",
        "\n",
        "    # Format and return the results\n",
        "    for row in results:\n",
        "        print(row)\n",
        "\n",
        "# Example usage\n",
        "question = input(\"Enter your question: \")\n",
        "answer_question(question)\n"
      ],
      "metadata": {
        "id": "klogtrjSwngT"
      },
      "execution_count": 9,
      "outputs": []
    },
    {
      "cell_type": "code",
      "source": [
        "import spacy\n",
        "from rdflib import Graph\n",
        "\n",
        "# Load the English tokenizer, tagger, parser, NER, and word vectors\n",
        "nlp = spacy.load(\"en_core_web_sm\")\n",
        "\n",
        "# Your RDF graph loading remains the same\n",
        "foo_KG = Graph(); foo_KG.parse(\"https://naeima.github.io/fooKG/index.ttl\", format=\"ttl\")\n",
        "\n",
        "def formulate_sparql(question):\n",
        "    # Use spaCy NLP to analyze the question\n",
        "    doc = nlp(question)\n",
        "\n",
        "    # Example: Extract named entities and nouns as potential subjects/objects\n",
        "    subjects = [ent.text for ent in doc.ents] + [token.text for token in doc if token.pos_ == \"NOUN\"]\n",
        "\n",
        "    # Here, you'd need a mapping from natural language terms to RDF predicates/your ontology\n",
        "    # This example is overly simplistic and for demonstration only\n",
        "    predicates = {\"located\": \"dbo:location\", \"created\": \"dbo:creationDate\"}\n",
        "\n",
        "    # Formulate a basic SPARQL query based on identified components\n",
        "    # Note: A real implementation would require more sophisticated mapping logic\n",
        "    sparql_query = \"SELECT ?LuinID  ?lat ?long  ?date WHERE { ?subject <http://w3id.org/def/foo#Liun>   ?LuinID; <http://www.w3.org/2003/01/geo/wgs84_pos#lat>  ?lat; <http://www.w3.org/2003/01/geo/wgs84_pos#long>  ?long; <http://www.w3.org/2006/time#DateTime>    ?date.} limit 100 \"\n",
        "\n",
        "    return sparql_query\n",
        "\n",
        "# Example bot interaction\n",
        "question = input(\"Enter your question: \")\n",
        "sparql_query = formulate_sparql(question)\n",
        "print(\"Generated SPARQL query:\", sparql_query)\n",
        "\n",
        "# Execute the SPARQL query\n",
        "results = foo_KG.query(sparql_query)\n",
        "# Convert the results to a pandas DataFrame\n",
        "data = pd.DataFrame(results)\n",
        "\n",
        "# Display the DataFrame\n",
        "print(data)\n"
      ],
      "metadata": {
        "colab": {
          "base_uri": "https://localhost:8080/"
        },
        "outputId": "56b8905f-7ad0-4fdd-9319-9f09602516b9",
        "id": "C4Tjg40nyhwD"
      },
      "execution_count": 14,
      "outputs": [
        {
          "output_type": "stream",
          "name": "stdout",
          "text": [
            "Enter your question: where is Luin?\n",
            "Generated SPARQL query: SELECT ?LuinID  ?lat ?long  ?date WHERE { ?subject <http://w3id.org/def/foo#Liun>   ?LuinID; <http://www.w3.org/2003/01/geo/wgs84_pos#lat>  ?lat; <http://www.w3.org/2003/01/geo/wgs84_pos#long>  ?long; <http://www.w3.org/2006/time#DateTime>    ?date.} limit 100 \n",
            "            0           1            2                    3\n",
            "0   1046AG505  41.5063176   -124.29118  2007-07-29T00:02:04\n",
            "1   1047AG505   41.506389    -124.2907  2007-07-29T01:01:19\n",
            "2   1048AG505  41.5062585   -124.29043  2007-07-29T02:00:59\n",
            "3   1049AG505  41.5065374   -124.29005  2007-07-29T03:01:30\n",
            "4   1050AG505  41.5053196  -124.289406  2007-07-29T04:00:55\n",
            "..        ...         ...          ...                  ...\n",
            "95  1141AG505  41.4329395  -124.969246  2007-08-20T01:01:19\n",
            "96  1142AG505  41.4338574  -124.968376  2007-08-20T02:00:55\n",
            "97  1143AG505  41.4338255   -124.96836  2007-08-20T03:00:52\n",
            "98  1144AG505  41.4311213   -124.96676  2007-08-20T04:01:16\n",
            "99  1145AG505  41.4300604  -124.966095  2007-08-20T05:00:52\n",
            "\n",
            "[100 rows x 4 columns]\n"
          ]
        }
      ]
    },
    {
      "cell_type": "code",
      "source": [],
      "metadata": {
        "id": "ussmpbluxj4n"
      },
      "execution_count": null,
      "outputs": []
    }
  ]
}